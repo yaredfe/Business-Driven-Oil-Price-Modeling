{
 "cells": [
  {
   "cell_type": "code",
   "execution_count": 1,
   "id": "9ff6bb05-e151-4166-9cc9-d10d32b31cf2",
   "metadata": {},
   "outputs": [],
   "source": [
    "import pandas as pd\n",
    "import sys\n",
    "sys.path.append(\"c:/users/user/Downloads/film/Business-Driven-Oil-Price-Modeling/src\")\n",
    "from data_processing import (load_data,reshape_to_long_format,filter_by_year,resample_annual_avg,merge_datasets,filter_by_countries,handle_missing_values)"
   ]
  },
  {
   "cell_type": "code",
   "execution_count": 2,
   "id": "a13b7da2-8cd5-459e-8c68-747a41db5cac",
   "metadata": {},
   "outputs": [],
   "source": [
    "gdp =load_data(\"../data/API_NY.GDP.MKTP.KD.ZG_DS2_en_csv_v2_10065.csv\", columns=['Country Name', 'Country Code', 'Indicator Name', 'Indicator Code'] + list(map(str, range(1960, 2023 + 1))))\n",
    "unemployment=load_data(\"../data/API_SL.UEM.TOTL.ZS_DS2_en_csv_v2_10162.csv\",columns=['Country Name', 'Country Code', 'Indicator Name', 'Indicator Code'] + list(map(str, range(1960, 2023 + 1))))\n",
    "inflation=load_data(\"../data/API_FP.CPI.TOTL.ZG_DS2_en_csv_v2_10107.csv\",columns=['Country Name', 'Country Code', 'Indicator Name', 'Indicator Code'] + list(map(str, range(1960, 2023 + 1))))\n",
    "brent_data =load_data(\"../data/Copy of BrentOilPrices.csv\")"
   ]
  },
  {
   "cell_type": "code",
   "execution_count": 3,
   "id": "ff17cc29-dd8a-4fbe-81af-57ea886c9b78",
   "metadata": {},
   "outputs": [
    {
     "name": "stderr",
     "output_type": "stream",
     "text": [
      "C:\\Users\\User\\AppData\\Local\\Temp\\ipykernel_7144\\1953012716.py:4: UserWarning: Could not infer format, so each element will be parsed individually, falling back to `dateutil`. To ensure parsing is consistent and as-expected, please specify a format.\n",
      "  brent_data.index=pd.to_datetime(brent_data.index)\n"
     ]
    }
   ],
   "source": [
    "column_names=[\"Date\",\"Price\"]\n",
    "brent_data.columns=column_names\n",
    "brent_data=brent_data.set_index(\"Date\",drop=True)\n",
    "brent_data.index=pd.to_datetime(brent_data.index)"
   ]
  },
  {
   "cell_type": "code",
   "execution_count": 4,
   "id": "b9f8d14c-6e00-4aea-982a-d15d6abfae91",
   "metadata": {},
   "outputs": [
    {
     "data": {
      "text/html": [
       "<div>\n",
       "<style scoped>\n",
       "    .dataframe tbody tr th:only-of-type {\n",
       "        vertical-align: middle;\n",
       "    }\n",
       "\n",
       "    .dataframe tbody tr th {\n",
       "        vertical-align: top;\n",
       "    }\n",
       "\n",
       "    .dataframe thead th {\n",
       "        text-align: right;\n",
       "    }\n",
       "</style>\n",
       "<table border=\"1\" class=\"dataframe\">\n",
       "  <thead>\n",
       "    <tr style=\"text-align: right;\">\n",
       "      <th></th>\n",
       "      <th>Price</th>\n",
       "    </tr>\n",
       "    <tr>\n",
       "      <th>Date</th>\n",
       "      <th></th>\n",
       "    </tr>\n",
       "  </thead>\n",
       "  <tbody>\n",
       "    <tr>\n",
       "      <th>1987-05-26</th>\n",
       "      <td>18.63</td>\n",
       "    </tr>\n",
       "    <tr>\n",
       "      <th>1987-05-27</th>\n",
       "      <td>18.60</td>\n",
       "    </tr>\n",
       "    <tr>\n",
       "      <th>1987-05-28</th>\n",
       "      <td>18.60</td>\n",
       "    </tr>\n",
       "    <tr>\n",
       "      <th>1987-05-29</th>\n",
       "      <td>18.58</td>\n",
       "    </tr>\n",
       "    <tr>\n",
       "      <th>1987-06-01</th>\n",
       "      <td>18.65</td>\n",
       "    </tr>\n",
       "  </tbody>\n",
       "</table>\n",
       "</div>"
      ],
      "text/plain": [
       "            Price\n",
       "Date             \n",
       "1987-05-26  18.63\n",
       "1987-05-27  18.60\n",
       "1987-05-28  18.60\n",
       "1987-05-29  18.58\n",
       "1987-06-01  18.65"
      ]
     },
     "execution_count": 4,
     "metadata": {},
     "output_type": "execute_result"
    }
   ],
   "source": [
    "brent_data.head()"
   ]
  },
  {
   "cell_type": "code",
   "execution_count": 5,
   "id": "9edc76fa-111c-474d-b964-a4152fdc7fe6",
   "metadata": {},
   "outputs": [],
   "source": [
    "countries = ['China', 'United States', 'Saudi Arabia', 'Russia']"
   ]
  },
  {
   "cell_type": "code",
   "execution_count": 6,
   "id": "cfad4dde-cd82-469c-bb3d-67a16d25bbd5",
   "metadata": {},
   "outputs": [],
   "source": [
    "gdp_filtered = filter_by_countries(gdp, countries)\n",
    "inflation_filtered = filter_by_countries(inflation, countries)\n",
    "unemployment_filtered = filter_by_countries(unemployment, countries)"
   ]
  },
  {
   "cell_type": "code",
   "execution_count": 7,
   "id": "440bacbf-1ff2-49aa-90cc-1e7c134b8f8a",
   "metadata": {},
   "outputs": [],
   "source": [
    "gdp_data_long = reshape_to_long_format(gdp_filtered, id_vars=['Country Name', 'Country Code', 'Indicator Name', 'Indicator Code'])\n",
    "unemployment_data_long = reshape_to_long_format(unemployment_filtered,id_vars=['Country Name', 'Country Code', 'Indicator Name', 'Indicator Code'])\n",
    "inflation_data_long = reshape_to_long_format(inflation_filtered,id_vars=['Country Name', 'Country Code', 'Indicator Name', 'Indicator Code'])"
   ]
  },
  {
   "cell_type": "code",
   "execution_count": 8,
   "id": "2de6bc64-bcac-4ef3-9efe-805f4b08cf04",
   "metadata": {},
   "outputs": [],
   "source": [
    "gdp_data_filtered = filter_by_year(gdp_data_long, 1987, 2022)\n",
    "unemployment_data_filtered = filter_by_year(unemployment_data_long,1987,2022)\n",
    "inflation_data_filtered =filter_by_year(inflation_data_long,1987,2022)"
   ]
  },
  {
   "cell_type": "code",
   "execution_count": 9,
   "id": "da3729cc-1802-453b-a8fd-d893e240a967",
   "metadata": {},
   "outputs": [
    {
     "data": {
      "text/html": [
       "<div>\n",
       "<style scoped>\n",
       "    .dataframe tbody tr th:only-of-type {\n",
       "        vertical-align: middle;\n",
       "    }\n",
       "\n",
       "    .dataframe tbody tr th {\n",
       "        vertical-align: top;\n",
       "    }\n",
       "\n",
       "    .dataframe thead th {\n",
       "        text-align: right;\n",
       "    }\n",
       "</style>\n",
       "<table border=\"1\" class=\"dataframe\">\n",
       "  <thead>\n",
       "    <tr style=\"text-align: right;\">\n",
       "      <th></th>\n",
       "      <th>Country Name</th>\n",
       "      <th>Country Code</th>\n",
       "      <th>Indicator Name</th>\n",
       "      <th>Indicator Code</th>\n",
       "      <th>Year</th>\n",
       "      <th>Value</th>\n",
       "    </tr>\n",
       "  </thead>\n",
       "  <tbody>\n",
       "    <tr>\n",
       "      <th>81</th>\n",
       "      <td>China</td>\n",
       "      <td>CHN</td>\n",
       "      <td>GDP growth (annual %)</td>\n",
       "      <td>NY.GDP.MKTP.KD.ZG</td>\n",
       "      <td>1987</td>\n",
       "      <td>11.657428</td>\n",
       "    </tr>\n",
       "    <tr>\n",
       "      <th>82</th>\n",
       "      <td>Saudi Arabia</td>\n",
       "      <td>SAU</td>\n",
       "      <td>GDP growth (annual %)</td>\n",
       "      <td>NY.GDP.MKTP.KD.ZG</td>\n",
       "      <td>1987</td>\n",
       "      <td>-6.632517</td>\n",
       "    </tr>\n",
       "    <tr>\n",
       "      <th>83</th>\n",
       "      <td>United States</td>\n",
       "      <td>USA</td>\n",
       "      <td>GDP growth (annual %)</td>\n",
       "      <td>NY.GDP.MKTP.KD.ZG</td>\n",
       "      <td>1987</td>\n",
       "      <td>3.454630</td>\n",
       "    </tr>\n",
       "    <tr>\n",
       "      <th>84</th>\n",
       "      <td>China</td>\n",
       "      <td>CHN</td>\n",
       "      <td>GDP growth (annual %)</td>\n",
       "      <td>NY.GDP.MKTP.KD.ZG</td>\n",
       "      <td>1988</td>\n",
       "      <td>11.222595</td>\n",
       "    </tr>\n",
       "    <tr>\n",
       "      <th>85</th>\n",
       "      <td>Saudi Arabia</td>\n",
       "      <td>SAU</td>\n",
       "      <td>GDP growth (annual %)</td>\n",
       "      <td>NY.GDP.MKTP.KD.ZG</td>\n",
       "      <td>1988</td>\n",
       "      <td>13.109309</td>\n",
       "    </tr>\n",
       "  </tbody>\n",
       "</table>\n",
       "</div>"
      ],
      "text/plain": [
       "     Country Name Country Code         Indicator Name     Indicator Code  \\\n",
       "81          China          CHN  GDP growth (annual %)  NY.GDP.MKTP.KD.ZG   \n",
       "82   Saudi Arabia          SAU  GDP growth (annual %)  NY.GDP.MKTP.KD.ZG   \n",
       "83  United States          USA  GDP growth (annual %)  NY.GDP.MKTP.KD.ZG   \n",
       "84          China          CHN  GDP growth (annual %)  NY.GDP.MKTP.KD.ZG   \n",
       "85   Saudi Arabia          SAU  GDP growth (annual %)  NY.GDP.MKTP.KD.ZG   \n",
       "\n",
       "    Year      Value  \n",
       "81  1987  11.657428  \n",
       "82  1987  -6.632517  \n",
       "83  1987   3.454630  \n",
       "84  1988  11.222595  \n",
       "85  1988  13.109309  "
      ]
     },
     "execution_count": 9,
     "metadata": {},
     "output_type": "execute_result"
    }
   ],
   "source": [
    "gdp_data_filtered.head()"
   ]
  },
  {
   "cell_type": "code",
   "execution_count": 10,
   "id": "8bc3d051-8ceb-4607-bdb7-98c50bdfe865",
   "metadata": {},
   "outputs": [
    {
     "name": "stderr",
     "output_type": "stream",
     "text": [
      "C:\\Users\\User\\AppData\\Local\\Temp\\ipykernel_7144\\3355053199.py:2: FutureWarning: 'Y' is deprecated and will be removed in a future version, please use 'YE' instead.\n",
      "  annual_data = brent_data.resample('Y').mean()\n"
     ]
    }
   ],
   "source": [
    "# Resample the data to annual frequency and calculate the mean for each year\n",
    "annual_data = brent_data.resample('Y').mean()\n",
    "\n",
    "# Create a new column 'Year' from the index after resetting it\n",
    "annual_data = annual_data.reset_index()\n",
    "annual_data['Year'] = annual_data['Date'].dt.year  # Assuming the index was originally set to 'Date'\n",
    "\n",
    "# Select only the 'Year' column and the specified value column (e.g., 'Price')\n",
    "brent_annual_data = annual_data[['Year',\"Price\"]]"
   ]
  },
  {
   "cell_type": "code",
   "execution_count": 11,
   "id": "50542518-7e04-454f-9f94-f4210e053f78",
   "metadata": {},
   "outputs": [
    {
     "data": {
      "text/html": [
       "<div>\n",
       "<style scoped>\n",
       "    .dataframe tbody tr th:only-of-type {\n",
       "        vertical-align: middle;\n",
       "    }\n",
       "\n",
       "    .dataframe tbody tr th {\n",
       "        vertical-align: top;\n",
       "    }\n",
       "\n",
       "    .dataframe thead th {\n",
       "        text-align: right;\n",
       "    }\n",
       "</style>\n",
       "<table border=\"1\" class=\"dataframe\">\n",
       "  <thead>\n",
       "    <tr style=\"text-align: right;\">\n",
       "      <th></th>\n",
       "      <th>Year</th>\n",
       "      <th>Price</th>\n",
       "    </tr>\n",
       "  </thead>\n",
       "  <tbody>\n",
       "    <tr>\n",
       "      <th>0</th>\n",
       "      <td>1987</td>\n",
       "      <td>18.525000</td>\n",
       "    </tr>\n",
       "    <tr>\n",
       "      <th>1</th>\n",
       "      <td>1988</td>\n",
       "      <td>14.905412</td>\n",
       "    </tr>\n",
       "    <tr>\n",
       "      <th>2</th>\n",
       "      <td>1989</td>\n",
       "      <td>18.228228</td>\n",
       "    </tr>\n",
       "    <tr>\n",
       "      <th>3</th>\n",
       "      <td>1990</td>\n",
       "      <td>23.761445</td>\n",
       "    </tr>\n",
       "    <tr>\n",
       "      <th>4</th>\n",
       "      <td>1991</td>\n",
       "      <td>20.041128</td>\n",
       "    </tr>\n",
       "  </tbody>\n",
       "</table>\n",
       "</div>"
      ],
      "text/plain": [
       "   Year      Price\n",
       "0  1987  18.525000\n",
       "1  1988  14.905412\n",
       "2  1989  18.228228\n",
       "3  1990  23.761445\n",
       "4  1991  20.041128"
      ]
     },
     "execution_count": 11,
     "metadata": {},
     "output_type": "execute_result"
    }
   ],
   "source": [
    "brent_annual_data.head()"
   ]
  },
  {
   "cell_type": "code",
   "execution_count": 12,
   "id": "482c3571-734f-4734-b701-93642db054d1",
   "metadata": {},
   "outputs": [],
   "source": [
    "economic_data_combined = pd.concat([inflation_data_filtered, unemployment_data_filtered, gdp_data_filtered])\n",
    "# merged_data = merge_datasets(economic_data_combined, brent_annual_data, on=\"Date\", indicator_name=\"GDP\")"
   ]
  },
  {
   "cell_type": "code",
   "execution_count": 13,
   "id": "e122b956-4a10-4892-8fcd-ec2848019587",
   "metadata": {},
   "outputs": [
    {
     "data": {
      "text/html": [
       "<div>\n",
       "<style scoped>\n",
       "    .dataframe tbody tr th:only-of-type {\n",
       "        vertical-align: middle;\n",
       "    }\n",
       "\n",
       "    .dataframe tbody tr th {\n",
       "        vertical-align: top;\n",
       "    }\n",
       "\n",
       "    .dataframe thead th {\n",
       "        text-align: right;\n",
       "    }\n",
       "</style>\n",
       "<table border=\"1\" class=\"dataframe\">\n",
       "  <thead>\n",
       "    <tr style=\"text-align: right;\">\n",
       "      <th></th>\n",
       "      <th>Country Name</th>\n",
       "      <th>Country Code</th>\n",
       "      <th>Indicator Name</th>\n",
       "      <th>Indicator Code</th>\n",
       "      <th>Year</th>\n",
       "      <th>Value</th>\n",
       "    </tr>\n",
       "  </thead>\n",
       "  <tbody>\n",
       "    <tr>\n",
       "      <th>81</th>\n",
       "      <td>China</td>\n",
       "      <td>CHN</td>\n",
       "      <td>Inflation, consumer prices (annual %)</td>\n",
       "      <td>FP.CPI.TOTL.ZG</td>\n",
       "      <td>1987</td>\n",
       "      <td>7.233836</td>\n",
       "    </tr>\n",
       "    <tr>\n",
       "      <th>82</th>\n",
       "      <td>Saudi Arabia</td>\n",
       "      <td>SAU</td>\n",
       "      <td>Inflation, consumer prices (annual %)</td>\n",
       "      <td>FP.CPI.TOTL.ZG</td>\n",
       "      <td>1987</td>\n",
       "      <td>-1.547117</td>\n",
       "    </tr>\n",
       "    <tr>\n",
       "      <th>83</th>\n",
       "      <td>United States</td>\n",
       "      <td>USA</td>\n",
       "      <td>Inflation, consumer prices (annual %)</td>\n",
       "      <td>FP.CPI.TOTL.ZG</td>\n",
       "      <td>1987</td>\n",
       "      <td>3.664563</td>\n",
       "    </tr>\n",
       "    <tr>\n",
       "      <th>84</th>\n",
       "      <td>China</td>\n",
       "      <td>CHN</td>\n",
       "      <td>Inflation, consumer prices (annual %)</td>\n",
       "      <td>FP.CPI.TOTL.ZG</td>\n",
       "      <td>1988</td>\n",
       "      <td>18.811818</td>\n",
       "    </tr>\n",
       "    <tr>\n",
       "      <th>85</th>\n",
       "      <td>Saudi Arabia</td>\n",
       "      <td>SAU</td>\n",
       "      <td>Inflation, consumer prices (annual %)</td>\n",
       "      <td>FP.CPI.TOTL.ZG</td>\n",
       "      <td>1988</td>\n",
       "      <td>0.907563</td>\n",
       "    </tr>\n",
       "  </tbody>\n",
       "</table>\n",
       "</div>"
      ],
      "text/plain": [
       "     Country Name Country Code                         Indicator Name  \\\n",
       "81          China          CHN  Inflation, consumer prices (annual %)   \n",
       "82   Saudi Arabia          SAU  Inflation, consumer prices (annual %)   \n",
       "83  United States          USA  Inflation, consumer prices (annual %)   \n",
       "84          China          CHN  Inflation, consumer prices (annual %)   \n",
       "85   Saudi Arabia          SAU  Inflation, consumer prices (annual %)   \n",
       "\n",
       "    Indicator Code  Year      Value  \n",
       "81  FP.CPI.TOTL.ZG  1987   7.233836  \n",
       "82  FP.CPI.TOTL.ZG  1987  -1.547117  \n",
       "83  FP.CPI.TOTL.ZG  1987   3.664563  \n",
       "84  FP.CPI.TOTL.ZG  1988  18.811818  \n",
       "85  FP.CPI.TOTL.ZG  1988   0.907563  "
      ]
     },
     "execution_count": 13,
     "metadata": {},
     "output_type": "execute_result"
    }
   ],
   "source": [
    "economic_data_combined.head()"
   ]
  },
  {
   "cell_type": "code",
   "execution_count": 14,
   "id": "8ced975b-476b-4053-913d-08c3ef0f8ec4",
   "metadata": {},
   "outputs": [],
   "source": [
    "merged_data = merge_datasets(economic_data_combined, brent_annual_data)\n"
   ]
  },
  {
   "cell_type": "code",
   "execution_count": 15,
   "id": "24d346b4-0c83-4f3f-a21a-271da10505da",
   "metadata": {},
   "outputs": [
    {
     "name": "stderr",
     "output_type": "stream",
     "text": [
      "c:\\users/user/Downloads/film/Business-Driven-Oil-Price-Modeling/src\\data_processing.py:128: FutureWarning: DataFrame.fillna with 'method' is deprecated and will raise in a future version. Use obj.ffill() or obj.bfill() instead.\n",
      "  return data.fillna(method=method)\n"
     ]
    }
   ],
   "source": [
    "final_data = handle_missing_values(merged_data)"
   ]
  },
  {
   "cell_type": "code",
   "execution_count": 19,
   "id": "2d28d93b-4f70-49eb-a88b-b035d6c23180",
   "metadata": {},
   "outputs": [
    {
     "data": {
      "text/plain": [
       "Indicator Name\n",
       "Inflation, consumer prices (annual %)                                  108\n",
       "Unemployment, total (% of total labor force) (modeled ILO estimate)    108\n",
       "GDP growth (annual %)                                                  108\n",
       "Name: count, dtype: int64"
      ]
     },
     "execution_count": 19,
     "metadata": {},
     "output_type": "execute_result"
    }
   ],
   "source": [
    "final_data[\"Indicator Name\"].value_counts()"
   ]
  },
  {
   "cell_type": "code",
   "execution_count": 20,
   "id": "4a98b92f-922b-4530-9774-f474d6e5d9df",
   "metadata": {},
   "outputs": [],
   "source": [
    "final_data.to_csv(\"final_data.csv\")"
   ]
  },
  {
   "cell_type": "code",
   "execution_count": null,
   "id": "6f12fcf5-c673-489d-839d-7611ea5c0160",
   "metadata": {},
   "outputs": [],
   "source": []
  }
 ],
 "metadata": {
  "kernelspec": {
   "display_name": "Python 3 (ipykernel)",
   "language": "python",
   "name": "python3"
  },
  "language_info": {
   "codemirror_mode": {
    "name": "ipython",
    "version": 3
   },
   "file_extension": ".py",
   "mimetype": "text/x-python",
   "name": "python",
   "nbconvert_exporter": "python",
   "pygments_lexer": "ipython3",
   "version": "3.11.9"
  }
 },
 "nbformat": 4,
 "nbformat_minor": 5
}
